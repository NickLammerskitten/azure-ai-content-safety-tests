{
 "cells": [
  {
   "cell_type": "code",
   "id": "initial_id",
   "metadata": {
    "collapsed": true,
    "ExecuteTime": {
     "end_time": "2025-10-25T10:20:01.328366Z",
     "start_time": "2025-10-25T10:20:01.326500Z"
    }
   },
   "source": [
    "import csv\n",
    "import json"
   ],
   "outputs": [],
   "execution_count": 3
  },
  {
   "metadata": {
    "ExecuteTime": {
     "end_time": "2025-10-25T10:20:02.811075Z",
     "start_time": "2025-10-25T10:20:02.760395Z"
    }
   },
   "cell_type": "code",
   "source": [
    "with open('grunddaten/gahd_disaggregated.csv', mode='r', newline='', encoding='utf-8') as csvfile:\n",
    "    data = list(csv.DictReader(csvfile))"
   ],
   "id": "82529282622f82fe",
   "outputs": [],
   "execution_count": 4
  },
  {
   "metadata": {
    "ExecuteTime": {
     "end_time": "2025-10-25T10:20:12.755196Z",
     "start_time": "2025-10-25T10:20:12.647981Z"
    }
   },
   "cell_type": "code",
   "source": [
    "with open('ergebnisse/gahd_disaggregated.json', mode='w', encoding='utf-8') as jsonfile:\n",
    "    json.dump(data, jsonfile, ensure_ascii=False, indent=4)"
   ],
   "id": "ab222ff27ec87154",
   "outputs": [],
   "execution_count": 5
  }
 ],
 "metadata": {
  "kernelspec": {
   "display_name": "Python 3",
   "language": "python",
   "name": "python3"
  },
  "language_info": {
   "codemirror_mode": {
    "name": "ipython",
    "version": 2
   },
   "file_extension": ".py",
   "mimetype": "text/x-python",
   "name": "python",
   "nbconvert_exporter": "python",
   "pygments_lexer": "ipython2",
   "version": "2.7.6"
  }
 },
 "nbformat": 4,
 "nbformat_minor": 5
}
